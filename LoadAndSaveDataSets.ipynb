{
 "cells": [
  {
   "cell_type": "code",
   "execution_count": 1,
   "metadata": {},
   "outputs": [
    {
     "name": "stderr",
     "output_type": "stream",
     "text": [
      "c:\\Users\\IceTalon\\miniconda3\\Lib\\site-packages\\tqdm\\auto.py:21: TqdmWarning: IProgress not found. Please update jupyter and ipywidgets. See https://ipywidgets.readthedocs.io/en/stable/user_install.html\n",
      "  from .autonotebook import tqdm as notebook_tqdm\n",
      "Downloading data: 100%|██████████| 29.1G/29.1G [06:47<00:00, 71.6MB/s]\n",
      "Downloading data: 100%|██████████| 29.3G/29.3G [06:50<00:00, 71.4MB/s]\n",
      "Downloading data: 100%|██████████| 29.0G/29.0G [07:04<00:00, 68.4MB/s]\n",
      "Downloading data: 100%|██████████| 29.2G/29.2G [11:44<00:00, 41.5MB/s]  \n",
      "Downloading data: 100%|██████████| 29.1G/29.1G [06:46<00:00, 71.7MB/s]\n",
      "Downloading data: 100%|██████████| 6.67G/6.67G [01:32<00:00, 71.8MB/s]\n",
      "Downloading data: 100%|██████████| 13.5G/13.5G [03:09<00:00, 71.5MB/s]\n",
      "Generating train split: 100%|██████████| 1281167/1281167 [12:27<00:00, 1714.19 examples/s]\n",
      "Generating validation split: 100%|██████████| 50000/50000 [00:33<00:00, 1510.94 examples/s]\n",
      "Generating test split: 100%|██████████| 100000/100000 [01:00<00:00, 1648.21 examples/s]\n",
      "Saving the dataset (294/294 shards): 100%|██████████| 1281167/1281167 [40:24<00:00, 528.52 examples/s]\n",
      "Saving the dataset (14/14 shards): 100%|██████████| 50000/50000 [01:57<00:00, 424.37 examples/s]\n",
      "Saving the dataset (28/28 shards): 100%|██████████| 100000/100000 [04:19<00:00, 385.44 examples/s]\n"
     ]
    }
   ],
   "source": [
    "from datasets import load_dataset\n",
    "dataSetName = 'imagenet-1k'\n",
    "ds = load_dataset(dataSetName, trust_remote_code=True, token=True)\n"
   ]
  },
  {
   "cell_type": "code",
   "execution_count": null,
   "metadata": {},
   "outputs": [],
   "source": [
    "\n",
    "ds.save_to_disk('DataSets/' + dataSetName)"
   ]
  }
 ],
 "metadata": {
  "kernelspec": {
   "display_name": "base",
   "language": "python",
   "name": "python3"
  },
  "language_info": {
   "codemirror_mode": {
    "name": "ipython",
    "version": 3
   },
   "file_extension": ".py",
   "mimetype": "text/x-python",
   "name": "python",
   "nbconvert_exporter": "python",
   "pygments_lexer": "ipython3",
   "version": "3.12.2"
  }
 },
 "nbformat": 4,
 "nbformat_minor": 2
}
